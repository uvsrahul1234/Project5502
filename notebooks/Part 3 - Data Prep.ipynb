{
  "nbformat": 4,
  "nbformat_minor": 0,
  "metadata": {
    "colab": {
      "provenance": []
    },
    "kernelspec": {
      "name": "python3",
      "display_name": "Python 3"
    },
    "language_info": {
      "name": "python"
    }
  },
  "cells": [
    {
      "cell_type": "markdown",
      "source": [
        "# Part 3 - Data Prep\n",
        "\n",
        "https://www.udemy.com/course/feature-engineering-for-machine-learning\n",
        "\n",
        "* Types and characteristics of data\n",
        "* Missing data imputation\n",
        "* Categorical encoding\n",
        "* Variable transformation\n",
        "* Discretization\n",
        "* Outliers\n",
        "* Datetime\n",
        "* Scaling\n",
        "* Feature creation"
      ],
      "metadata": {
        "id": "p43IcKZ2H4TU"
      }
    },
    {
      "cell_type": "markdown",
      "source": [
        "## Load Data"
      ],
      "metadata": {
        "id": "nWWZXj_t7wkH"
      }
    },
    {
      "cell_type": "code",
      "source": [
        "import pandas as pd\n",
        "\n",
        "df = pd.read_csv('.../created_raw_data.csv')\n",
        "print(df.shape)\n",
        "print(df.info())\n",
        "df.head()"
      ],
      "metadata": {
        "id": "GER6wToI7wkI"
      },
      "execution_count": null,
      "outputs": []
    },
    {
      "cell_type": "code",
      "source": [
        "import preppy.utils as utils\n",
        "from preppy.version import __version__\n",
        "\n",
        "print(__version__)\n",
        "\n",
        "utils.report.write_report(df, thresh=.5)"
      ],
      "metadata": {
        "id": "UNIumF3DHQsn",
        "colab": {
          "base_uri": "https://localhost:8080/"
        },
        "outputId": "7be763a2-791b-411f-e1c0-4d5a5fb80889"
      },
      "execution_count": null,
      "outputs": [
        {
          "output_type": "stream",
          "name": "stdout",
          "text": [
            "PrepPy Version: 0.1.0\n",
            "REPORT FOR DATA PREP\n",
            "\n",
            "#################################################\n",
            "Columns with Constant Values\n",
            "#################################################\n",
            "['constant_2', 'constant_1']\n",
            "\n",
            "#################################################\n",
            "Columns with Quasi-Constant Values\n",
            "#################################################\n",
            "['binary', 'class', 'constant_1', 'constant_2', 'pd qcut1', 'random choice 2']\n",
            "\n",
            "#################################################\n",
            "Duplicate Rows\n",
            "#################################################\n",
            "20\n",
            "\n",
            "#################################################\n",
            "Duplicate Columns\n",
            "#################################################\n",
            "['duplicate_1', 'constant_1', 'duplicate_2']\n",
            "\n",
            "#################################################\n",
            "Variables with Noticeably Higher Scales\n",
            "#################################################\n",
            "Features with Noticeably Higher Scales (Based on Standard Deviation):\n",
            "standard scaling    10208.332456\n",
            "Name: std, dtype: float64\n",
            "\n",
            "Features with Noticeably Higher Scales (Based on Range):\n",
            "standard scaling    77113.30656\n",
            "dtype: float64\n",
            "None\n",
            "\n",
            "#################################################\n",
            "Variables with Missing Values\n",
            "#################################################\n",
            "given_name               303\n",
            "surname                  305\n",
            "date_of_birth            203\n",
            "phone_number             503\n",
            "email                    202\n",
            "address                  373\n",
            "city                     382\n",
            "state                    196\n",
            "zipcode                  380\n",
            "correlated w target 2    202\n",
            "pd qcut2                 203\n",
            "uniform corr 1           304\n",
            "outliers 1               103\n",
            "min max scaling          101\n",
            "multicollinearity 4      203\n",
            "multicollinearity 2       50\n",
            "multicollinearity 1      305\n",
            "corr_feature_class       303\n",
            "random label num 12      204\n",
            "uniform corr 2           505\n",
            "pd qcut3                 304\n",
            "random label num 4       203\n",
            "random choice 7          301\n",
            "multicollinearity 3      102\n",
            "dtype: int64\n",
            "\n",
            "#################################################\n",
            "Variables that Need Categorical Encoding\n",
            "#################################################\n",
            "Index(['binary', 'given_name', 'surname', 'date_of_birth', 'phone_number',\n",
            "       'email', 'address', 'city', 'state', 'zipcode', 'semi_constant_2',\n",
            "       'constant_2', 'semi_constant_1', 'constant_1', 'random label num 12',\n",
            "       'random label num 4', 'random choice 2', 'random choice 7',\n",
            "       'random choice 4'],\n",
            "      dtype='object')\n",
            "\n",
            "#################################################\n",
            "Variables with Outliers\n",
            "#################################################\n",
            "Column: correlated w target 2\n",
            "Outliers: [10.426717861550319, 8.576440822440695, 8.383372210207531, 9.089645562270308, -8.161661221228718]\n",
            "---\n",
            "Column: standard scaling\n",
            "Outliers: [85289.19960522179, 8175.893045651002, 77422.06605699699, 16368.795888209788, 22812.51011039023, 22855.27854784543]\n",
            "---\n",
            "Column: informative_1\n",
            "Outliers: [3.994644010615292]\n",
            "---\n",
            "Column: outliers 1\n",
            "Outliers: [-3.3696464596259945, 2.9986742865458247, -3.7047166722206506, 3.7714249917714073, 2.9918621003203714, 3.451922042093977, -3.2684966910775657, 3.957856127899808, 3.3183747142980797, 3.985593057559739, -3.1579733561013574, -2.9406278682276503, 3.3191700936546344, 4.058213149254671, -3.057031098627516, 3.159360634192801, -2.9597559514951906, -4.213596704809895, -3.0006584501100337, -3.7582207649362283, -3.5323111800742124, -3.029301398961189, 3.3527613333386133, -2.9359611481296004, 3.1380142841790173, 4.565602156059679, -3.638494868485255, 5.863531198033991, -2.8697412102330526, -4.390089577640717, 3.356926553359672, 3.211247728255877, -3.018855998865763, 3.3933690956377944, 4.37975841060511, 5.282538988440316, 3.659656216460106, 3.6893964188540234, -4.529934533837279, -3.799960529515229, -3.44696931887406, 2.969283536543152, 3.150227120028252, 3.711999880389811, -2.991212026716564, -4.273607026615813, -4.05647666388796, 3.6206278865084798, -4.539139390803678, -5.030864245736013, 3.9922280572518547, -4.305307428409897, -4.595404084567951, -3.7960443774048036, -2.917467382137318, -3.6494511262336085, -3.5055949684635044, 4.6518885469387605]\n",
            "---\n",
            "Column: correlated w target 1\n",
            "Outliers: [-8.775071574695524, -10.241792893411644, 10.552817560797088, 10.277830935181157, 9.179676022510325, -9.08397488287206]\n",
            "---\n",
            "Column: min max scaling\n",
            "Outliers: [9.27192001332724, 712.1713458188283, 687.3874677973143, 723.5730549825761, 711.0328241302316]\n",
            "---\n",
            "Column: target\n",
            "Outliers: [9.29929607315589]\n",
            "---\n",
            "Column: multicollinearity 4\n",
            "Outliers: [3.26777827646281, 2.7902777495095066, -2.954007583691757, 3.26777827646281]\n",
            "---\n",
            "Column: multicollinearity 2\n",
            "Outliers: [-2.9767134722085733, -3.088685729633104, 2.513599254067134, 3.129346244271176, -2.804984719365338, 2.5174626917335914, 2.6831804712013048, 2.8403640170933464, 2.6607239735407577, 2.5581691175820596, 2.488663717699121, 2.5177817930343, 2.483495270904979, -2.7439314236845824]\n",
            "---\n",
            "Column: multicollinearity 1\n",
            "Outliers: [2.993883460741357, -2.8099064725510927]\n",
            "---\n",
            "Column: informative_2\n",
            "Outliers: [-4.543441462057407, -4.444491000732856, -4.154350476173738]\n",
            "---\n",
            "Column: corr_feature_class\n",
            "Outliers: [-9.413944416423341, -12.790567045989565, 9.286681784715562, -5.619455315447446, 18.965600403288477, 9.962253639613438, 11.161517932195746, -5.262629879091734, 9.336866565264529, 15.19283203597577, -8.404216421900182, -5.695436073703001, 10.572819214871606, 10.766433322347071, -7.240181110411726, 13.121264921289772, 9.361007699556446, -7.2770669548861004, -6.558876703181815, -5.403287321146547, 9.842507664910213, -10.367096196992554, 9.517328264260506, 9.268122563460535, 13.92887025637463, 10.18223112990188, -6.04752901657872, 12.105658182508588, 16.29161322707778]\n",
            "---\n",
            "Column: duplicate_1\n",
            "Outliers: [3.994644010615292]\n",
            "---\n",
            "Column: duplicate_2\n",
            "Outliers: [-4.543441462057407, -4.444491000732856, -4.154350476173738]\n",
            "---\n",
            "Column: outliers 2\n",
            "Outliers: [9.132431015734799, 8.898283901190638, -2.9618260504353344, 10.104685494910814, 9.277455396811698, 8.953437919189177, 9.334080193898647, 8.853177508336096, 9.21911047948229, 9.16188077618796, 9.430738732944151, -3.794005732636225, 10.657750834992324]\n",
            "---\n",
            "Column: multicollinearity 3\n",
            "Outliers: [-2.7831565043703876, -2.6652691224589846, -2.8996964174383226, 2.9055442015777144, -2.8122564464897666, 2.879763999688308, -3.0554612650376347, -3.0303008045809494, -3.263190985842433, 2.873229112287359]\n",
            "---\n",
            "\n",
            "#################################################\n",
            "END OF REPORT\n",
            "#################################################\n"
          ]
        }
      ]
    },
    {
      "cell_type": "code",
      "source": [
        "import preppy.utils as preppy\n",
        "\n",
        "consts = preppy.functions.identify_consts(df)\n",
        "quasi_consts = preppy.functions.identify_quasi_consts(df)\n",
        "duplicates = preppy.functions.check_col_duplicates(df)\n",
        "print(duplicates)\n",
        "print(consts)\n",
        "print(quasi_consts)"
      ],
      "metadata": {
        "colab": {
          "base_uri": "https://localhost:8080/"
        },
        "id": "VVb32G3MTSVy",
        "outputId": "55151712-6a4f-4ee5-9f14-bd00beffa34c"
      },
      "execution_count": null,
      "outputs": [
        {
          "output_type": "stream",
          "name": "stdout",
          "text": [
            "['duplicate_1', 'constant_1', 'duplicate_2']\n",
            "['constant_2', 'constant_1']\n",
            "['constant_1', 'constant_2']\n"
          ]
        }
      ]
    },
    {
      "cell_type": "code",
      "source": [
        "# numeric_df = df.apply(pd.to_numeric, errors='coerce')\n",
        "all_deletes = list(set(consts + quasi_consts + duplicates))\n",
        "for col in all_deletes:\n",
        "  print(col, df[col].dtype)\n",
        "  if df[col].dtype in ['float64', 'int64']:\n",
        "    df_numerical.remove(col)\n",
        "  elif df[col].dtype in ['object']:\n",
        "    df_object.remove(col)\n",
        "    df_categorical_features.remove(col)\n",
        "  else:\n",
        "    df_discreet.remove(col)\n"
      ],
      "metadata": {
        "colab": {
          "base_uri": "https://localhost:8080/"
        },
        "id": "vUZXsYTcTtTq",
        "outputId": "e45e80e5-0612-405b-8a2d-2cad4c360664"
      },
      "execution_count": null,
      "outputs": [
        {
          "output_type": "stream",
          "name": "stdout",
          "text": [
            "duplicate_2 float64\n",
            "duplicate_1 float64\n",
            "constant_2 object\n",
            "constant_1 object\n"
          ]
        }
      ]
    },
    {
      "cell_type": "markdown",
      "source": [
        "## PrepPy Pipeline"
      ],
      "metadata": {
        "id": "r_x1lTEpNaks"
      }
    },
    {
      "cell_type": "code",
      "source": [
        "import numpy as np\n",
        "import pandas as pd\n",
        "from sklearn.pipeline import Pipeline\n",
        "import preppy.utils as preppy\n",
        "\n",
        "pipe = [\n",
        "    ('constants', preppy.classes.RemoveConstants()),\n",
        "    ('quasiconsts', preppy.classes.RemoveQuasiConstants(thresh=0.8)),\n",
        "    ('duplicates', preppy.classes.DropDuplicates()),\n",
        "    ('missing', preppy.classes.HandleMissingValues()),\n",
        "    # ('encoding', HandleCatEncodeing())\n",
        "]\n",
        "\n",
        "pipe_model = Pipeline(pipe)\n",
        "data = pipe_model.fit_transform(df)\n",
        "cols = [col for col in df.columns if col not in consts + quasi_consts + duplicates]\n",
        "nu_df = pd.DataFrame(data, columns=cols)\n",
        "nu_df.info()"
      ],
      "metadata": {
        "id": "-jj9s-ARUVsk",
        "colab": {
          "base_uri": "https://localhost:8080/"
        },
        "outputId": "064c129b-b047-4c5a-beb7-f365f01c5b2e"
      },
      "execution_count": null,
      "outputs": [
        {
          "output_type": "stream",
          "name": "stdout",
          "text": [
            "<class 'pandas.core.frame.DataFrame'>\n",
            "RangeIndex: 1000 entries, 0 to 999\n",
            "Data columns (total 37 columns):\n",
            " #   Column                 Non-Null Count  Dtype \n",
            "---  ------                 --------------  ----- \n",
            " 0   binary                 1000 non-null   object\n",
            " 1   given_name             1000 non-null   object\n",
            " 2   surname                1000 non-null   object\n",
            " 3   date_of_birth          1000 non-null   object\n",
            " 4   phone_number           1000 non-null   object\n",
            " 5   email                  1000 non-null   object\n",
            " 6   address                1000 non-null   object\n",
            " 7   city                   1000 non-null   object\n",
            " 8   state                  1000 non-null   object\n",
            " 9   zipcode                1000 non-null   object\n",
            " 10  correlated w target 2  1000 non-null   object\n",
            " 11  standard scaling       1000 non-null   object\n",
            " 12  pd qcut2               1000 non-null   object\n",
            " 13  uniform corr 1         1000 non-null   object\n",
            " 14  informative_1          1000 non-null   object\n",
            " 15  semi_constant_2        1000 non-null   object\n",
            " 16  outliers 1             1000 non-null   object\n",
            " 17  correlated w target 1  1000 non-null   object\n",
            " 18  min max scaling        1000 non-null   object\n",
            " 19  target                 1000 non-null   object\n",
            " 20  multicollinearity 4    1000 non-null   object\n",
            " 21  pd qcut1               1000 non-null   object\n",
            " 22  multicollinearity 2    1000 non-null   object\n",
            " 23  multicollinearity 1    1000 non-null   object\n",
            " 24  informative_2          1000 non-null   object\n",
            " 25  semi_constant_1        1000 non-null   object\n",
            " 26  corr_feature_class     1000 non-null   object\n",
            " 27  random label num 12    1000 non-null   object\n",
            " 28  uniform corr 2         1000 non-null   object\n",
            " 29  pd qcut3               1000 non-null   object\n",
            " 30  random label num 4     1000 non-null   object\n",
            " 31  random choice 2        1000 non-null   object\n",
            " 32  random choice 7        1000 non-null   object\n",
            " 33  outliers 2             1000 non-null   object\n",
            " 34  random choice 4        1000 non-null   object\n",
            " 35  multicollinearity 3    1000 non-null   object\n",
            " 36  class                  1000 non-null   object\n",
            "dtypes: object(37)\n",
            "memory usage: 289.2+ KB\n"
          ]
        },
        {
          "output_type": "stream",
          "name": "stderr",
          "text": [
            "/content/preppy/utils/functions.py:61: FutureWarning: Downcasting object dtype arrays on .fillna, .ffill, .bfill is deprecated and will change in a future version. Call result.infer_objects(copy=False) instead. To opt-in to the future behavior, set `pd.set_option('future.no_silent_downcasting', True)`\n",
            "  dfx[feat] = df[feat].fillna(df[feat].mode()[0])\n"
          ]
        }
      ]
    },
    {
      "cell_type": "code",
      "source": [
        "import pickle\n",
        "\n",
        "# Load the pickled variable from the file\n",
        "with open('.../var_types.pkl', 'rb') as f:\n",
        "    var_types = pickle.load(f)\n",
        "\n",
        "print(var_types)"
      ],
      "metadata": {
        "colab": {
          "base_uri": "https://localhost:8080/"
        },
        "id": "ajFC8rmuHZ4S",
        "outputId": "e3fbf392-9e4e-49ba-9c12-a551337010a6"
      },
      "execution_count": null,
      "outputs": [
        {
          "output_type": "stream",
          "name": "stdout",
          "text": [
            "{'df_numerical': ['correlated w target 2', 'standard scaling', 'uniform corr 1', 'informative_1', 'outliers 1', 'correlated w target 1', 'min max scaling', 'target', 'multicollinearity 4', 'multicollinearity 2', 'multicollinearity 1', 'informative_2', 'corr_feature_class', 'uniform corr 2', 'outliers 2', 'multicollinearity 3', 'class'], 'df_object': ['binary', 'given_name', 'surname', 'date_of_birth', 'phone_number', 'email', 'address', 'city', 'state', 'zipcode', 'semi_constant_2', 'semi_constant_1', 'random label num 12', 'random label num 4', 'random choice 2', 'random choice 7', 'random choice 4'], 'df_discreet': ['pd qcut2', 'pd qcut1', 'pd qcut3'], 'df_categorical_features': ['binary', 'given_name', 'surname', 'date_of_birth', 'phone_number', 'email', 'address', 'city', 'state', 'zipcode', 'pd qcut2', 'semi_constant_2', 'pd qcut1', 'semi_constant_1', 'random label num 12', 'pd qcut3', 'random label num 4', 'random choice 2', 'random choice 7', 'random choice 4']}\n"
          ]
        }
      ]
    },
    {
      "cell_type": "code",
      "source": [
        "df_numerical = var_types['df_numerical']\n",
        "df_object = var_types['df_object']\n",
        "df_discreet = var_types['df_discreet']\n",
        "df_categorical_features = var_types['df_categorical_features']"
      ],
      "metadata": {
        "id": "_qoBXoPjRUEk"
      },
      "execution_count": null,
      "outputs": []
    },
    {
      "cell_type": "code",
      "source": [
        "# code along\n",
        "nu_df[df_numerical] = nu_df[df_numerical].astype(float)\n",
        "nu_df.info()"
      ],
      "metadata": {
        "id": "RR5jTPPP7ThD",
        "colab": {
          "base_uri": "https://localhost:8080/"
        },
        "outputId": "f372d632-57a1-42e2-ab63-139e8dd67460"
      },
      "execution_count": null,
      "outputs": [
        {
          "output_type": "stream",
          "name": "stdout",
          "text": [
            "<class 'pandas.core.frame.DataFrame'>\n",
            "RangeIndex: 1000 entries, 0 to 999\n",
            "Data columns (total 37 columns):\n",
            " #   Column                 Non-Null Count  Dtype  \n",
            "---  ------                 --------------  -----  \n",
            " 0   binary                 1000 non-null   object \n",
            " 1   given_name             1000 non-null   object \n",
            " 2   surname                1000 non-null   object \n",
            " 3   date_of_birth          1000 non-null   object \n",
            " 4   phone_number           1000 non-null   object \n",
            " 5   email                  1000 non-null   object \n",
            " 6   address                1000 non-null   object \n",
            " 7   city                   1000 non-null   object \n",
            " 8   state                  1000 non-null   object \n",
            " 9   zipcode                1000 non-null   object \n",
            " 10  correlated w target 2  1000 non-null   float64\n",
            " 11  standard scaling       1000 non-null   float64\n",
            " 12  pd qcut2               1000 non-null   object \n",
            " 13  uniform corr 1         1000 non-null   float64\n",
            " 14  informative_1          1000 non-null   float64\n",
            " 15  semi_constant_2        1000 non-null   object \n",
            " 16  outliers 1             1000 non-null   float64\n",
            " 17  correlated w target 1  1000 non-null   float64\n",
            " 18  min max scaling        1000 non-null   float64\n",
            " 19  target                 1000 non-null   float64\n",
            " 20  multicollinearity 4    1000 non-null   float64\n",
            " 21  pd qcut1               1000 non-null   object \n",
            " 22  multicollinearity 2    1000 non-null   float64\n",
            " 23  multicollinearity 1    1000 non-null   float64\n",
            " 24  informative_2          1000 non-null   float64\n",
            " 25  semi_constant_1        1000 non-null   object \n",
            " 26  corr_feature_class     1000 non-null   float64\n",
            " 27  random label num 12    1000 non-null   object \n",
            " 28  uniform corr 2         1000 non-null   float64\n",
            " 29  pd qcut3               1000 non-null   object \n",
            " 30  random label num 4     1000 non-null   object \n",
            " 31  random choice 2        1000 non-null   object \n",
            " 32  random choice 7        1000 non-null   object \n",
            " 33  outliers 2             1000 non-null   float64\n",
            " 34  random choice 4        1000 non-null   object \n",
            " 35  multicollinearity 3    1000 non-null   float64\n",
            " 36  class                  1000 non-null   float64\n",
            "dtypes: float64(17), object(20)\n",
            "memory usage: 289.2+ KB\n"
          ]
        }
      ]
    },
    {
      "cell_type": "markdown",
      "source": [
        "## Feature Engineering"
      ],
      "metadata": {
        "id": "EI54gfICj3Tg"
      }
    },
    {
      "cell_type": "markdown",
      "source": [
        "### Feature Combination"
      ],
      "metadata": {
        "id": "3ZaEp01sx2-9"
      }
    },
    {
      "cell_type": "code",
      "source": [
        "# create a new variable by combining two variables\n",
        "df['scaling_combined'] = df['standard scaling'] + df['min max scaling']\n",
        "df.drop(['standard scaling', 'min max scaling'], axis=1, inplace=True)"
      ],
      "metadata": {
        "id": "l4TygZ-hx6PX"
      },
      "execution_count": null,
      "outputs": []
    },
    {
      "cell_type": "markdown",
      "source": [
        "### Categorical Encoding"
      ],
      "metadata": {
        "id": "43tZx7khof9Q"
      }
    },
    {
      "cell_type": "code",
      "source": [
        "# code along\n",
        "import preppy.utils as utils\n",
        "\n",
        "df = utils.functions.do_OHE(df)\n",
        "df.info()"
      ],
      "metadata": {
        "id": "hjKC1_6U9Vvd",
        "colab": {
          "base_uri": "https://localhost:8080/"
        },
        "outputId": "a6f6e6b6-1dbb-439f-a3f6-9b34bc9eacdc"
      },
      "execution_count": null,
      "outputs": [
        {
          "output_type": "stream",
          "name": "stdout",
          "text": [
            "<class 'pandas.core.frame.DataFrame'>\n",
            "RangeIndex: 1000 entries, 0 to 999\n",
            "Data columns (total 45 columns):\n",
            " #   Column                             Non-Null Count  Dtype  \n",
            "---  ------                             --------------  -----  \n",
            " 0   binary                             1000 non-null   int64  \n",
            " 1   given_name                         1000 non-null   float64\n",
            " 2   surname                            1000 non-null   float64\n",
            " 3   date_of_birth                      1000 non-null   float64\n",
            " 4   phone_number                       1000 non-null   float64\n",
            " 5   email                              1000 non-null   float64\n",
            " 6   address                            1000 non-null   float64\n",
            " 7   city                               1000 non-null   float64\n",
            " 8   state                              1000 non-null   float64\n",
            " 9   zipcode                            1000 non-null   float64\n",
            " 10  correlated w target 2              1000 non-null   float64\n",
            " 11  standard scaling                   1000 non-null   float64\n",
            " 12  uniform corr 1                     1000 non-null   float64\n",
            " 13  informative_1                      1000 non-null   float64\n",
            " 14  outliers 1                         1000 non-null   float64\n",
            " 15  correlated w target 1              1000 non-null   float64\n",
            " 16  min max scaling                    1000 non-null   float64\n",
            " 17  target                             1000 non-null   float64\n",
            " 18  multicollinearity 4                1000 non-null   float64\n",
            " 19  pd qcut1                           1000 non-null   int64  \n",
            " 20  multicollinearity 2                1000 non-null   float64\n",
            " 21  multicollinearity 1                1000 non-null   float64\n",
            " 22  informative_2                      1000 non-null   float64\n",
            " 23  corr_feature_class                 1000 non-null   float64\n",
            " 24  random label num 12                1000 non-null   float64\n",
            " 25  uniform corr 2                     1000 non-null   float64\n",
            " 26  pd qcut3                           1000 non-null   float64\n",
            " 27  random choice 2                    1000 non-null   int64  \n",
            " 28  random choice 7                    1000 non-null   float64\n",
            " 29  outliers 2                         1000 non-null   float64\n",
            " 30  multicollinearity 3                1000 non-null   float64\n",
            " 31  class                              1000 non-null   float64\n",
            " 32  pd qcut2_Q2                        1000 non-null   float64\n",
            " 33  pd qcut2_Q3                        1000 non-null   float64\n",
            " 34  pd qcut2_Q4                        1000 non-null   float64\n",
            " 35  semi_constant_2_q_const_0_1        1000 non-null   float64\n",
            " 36  semi_constant_2_q_const_0_2        1000 non-null   float64\n",
            " 37  semi_constant_1_q_const_0_1        1000 non-null   float64\n",
            " 38  semi_constant_1_q_const_0_2        1000 non-null   float64\n",
            " 39  random label num 4_label num lo 2  1000 non-null   float64\n",
            " 40  random label num 4_label num lo 3  1000 non-null   float64\n",
            " 41  random label num 4_label num lo 4  1000 non-null   float64\n",
            " 42  random choice 4_North              1000 non-null   float64\n",
            " 43  random choice 4_South              1000 non-null   float64\n",
            " 44  random choice 4_West               1000 non-null   float64\n",
            "dtypes: float64(42), int64(3)\n",
            "memory usage: 351.7 KB\n"
          ]
        }
      ]
    },
    {
      "cell_type": "code",
      "source": [
        "df.to_csv('.../prepared_data.csv', index=False)"
      ],
      "metadata": {
        "id": "495vI4Zmfyym"
      },
      "execution_count": null,
      "outputs": []
    }
  ]
}